{
  "cells": [
    {
      "cell_type": "code",
      "execution_count": 1,
      "id": "ec023482",
      "metadata": {
        "id": "ec023482"
      },
      "outputs": [],
      "source": [
        "#import the necessary libraries\n",
        "import pandas as pd \n",
        "import numpy as np \n",
        "import tensorflow as tf  \n",
        "import matplotlib.pyplot as plt "
      ]
    },
    {
      "cell_type": "code",
      "execution_count": null,
      "id": "85807371",
      "metadata": {
        "id": "85807371"
      },
      "outputs": [],
      "source": [
        "#additional libraries for nueral network\n",
        "from sklearn.model_selection import train_test_split\n",
        "from tensorflow.keras.preprocessing.text import Tokenizer\n",
        "from tensorflow.keras.preprocessing.sequence import pad_sequences\n",
        "from tensorflow.keras.models import Sequential\n",
        "from tensorflow.keras.layers import Dense"
      ]
    },
    {
      "cell_type": "code",
      "execution_count": null,
      "id": "f8807142",
      "metadata": {
        "id": "f8807142"
      },
      "outputs": [],
      "source": [
        "#preparing of data\n",
        "dataset = pd.read_csv('spam.csv',encoding='latin-1')"
      ]
    },
    {
      "cell_type": "code",
      "execution_count": null,
      "id": "31801a84",
      "metadata": {
        "id": "31801a84"
      },
      "outputs": [],
      "source": [
        "dataset = dataset.drop([\"Unnamed: 2\", \"Unnamed: 3\", \"Unnamed: 4\"], axis=1)"
      ]
    },
    {
      "cell_type": "code",
      "execution_count": null,
      "id": "55ea7dc8",
      "metadata": {
        "id": "55ea7dc8"
      },
      "outputs": [],
      "source": [
        "dataset = dataset.rename(columns={\"v1\":'label', \"v2\":'text'})"
      ]
    },
    {
      "cell_type": "code",
      "execution_count": null,
      "id": "47311422",
      "metadata": {
        "id": "47311422"
      },
      "outputs": [],
      "source": [
        "#display the data\n",
        "tags = dataset[\"label\"]\n",
        "texts = dataset[\"text\"]"
      ]
    },
    {
      "cell_type": "code",
      "execution_count": null,
      "id": "af24c8cf",
      "metadata": {
        "id": "af24c8cf"
      },
      "outputs": [],
      "source": [
        "#classifying the label (0 or 1)\n",
        "dataset['label'].unique()\n",
        "label = {'spam': 1,'ham': 0}\n",
        "dataset['label'].replace(label, inplace=True)"
      ]
    },
    {
      "cell_type": "code",
      "execution_count": null,
      "id": "a7fec28a",
      "metadata": {
        "id": "a7fec28a"
      },
      "outputs": [],
      "source": [
        "#preparating of data to train\n",
        "training_size = int(len(texts) * 0.8)"
      ]
    },
    {
      "cell_type": "code",
      "execution_count": null,
      "id": "15caf55c",
      "metadata": {
        "id": "15caf55c"
      },
      "outputs": [],
      "source": [
        "#training of text data\n",
        "training_texts = texts[0:training_size]\n",
        "testing_texts = texts[training_size:]"
      ]
    },
    {
      "cell_type": "code",
      "execution_count": null,
      "id": "49401e40",
      "metadata": {
        "id": "49401e40"
      },
      "outputs": [],
      "source": [
        "#training of tags data\n",
        "training_tags = tags[0:training_size]\n",
        "testing_tags = tags[training_size:]"
      ]
    },
    {
      "cell_type": "code",
      "execution_count": null,
      "id": "4f178689",
      "metadata": {
        "id": "4f178689"
      },
      "outputs": [],
      "source": [
        "#convert labels to numpy \n",
        "training_tags_final = np.array(training_tags)\n",
        "testing_tags_final = np.array(testing_tags)"
      ]
    },
    {
      "cell_type": "code",
      "execution_count": null,
      "id": "adbd6861",
      "metadata": {
        "id": "adbd6861"
      },
      "outputs": [],
      "source": [
        "#Tokenize Dataset \n",
        "vocab_size = 1000\n",
        "embedding_dim = 16\n",
        "max_length = 100"
      ]
    },
    {
      "cell_type": "code",
      "execution_count": null,
      "id": "44e34e30",
      "metadata": {
        "id": "44e34e30"
      },
      "outputs": [],
      "source": [
        "trunc_type='post'\n",
        "padding_type='post'\n",
        "oov_tok = \"<OOV>\""
      ]
    },
    {
      "cell_type": "code",
      "execution_count": null,
      "id": "5489bb48",
      "metadata": {
        "id": "5489bb48"
      },
      "outputs": [],
      "source": [
        "tokenizer = Tokenizer(num_words = vocab_size, oov_token=oov_tok)\n",
        "tokenizer.fit_on_texts(training_texts)\n",
        "word_index = tokenizer.word_index\n",
        "sequences = tokenizer.texts_to_sequences(training_texts)\n",
        "padded = pad_sequences(sequences,maxlen=max_length, padding=padding_type, \n",
        "                       truncating=trunc_type)"
      ]
    },
    {
      "cell_type": "code",
      "execution_count": null,
      "id": "05ec223a",
      "metadata": {
        "id": "05ec223a"
      },
      "outputs": [],
      "source": [
        "testing_sequences = tokenizer.texts_to_sequences(testing_texts)\n",
        "testing_padded = pad_sequences(testing_sequences,maxlen=max_length, \n",
        "                               padding=padding_type, truncating=trunc_type)"
      ]
    },
    {
      "cell_type": "code",
      "execution_count": null,
      "id": "64d75236",
      "metadata": {
        "id": "64d75236"
      },
      "outputs": [],
      "source": [
        "#model the data\n",
        "model = tf.keras.Sequential([\n",
        "    tf.keras.layers.Embedding(vocab_size, embedding_dim, input_length=max_length),\n",
        "    tf.keras.layers.Flatten(),\n",
        "    tf.keras.layers.Dense(6, activation='relu'),\n",
        "    tf.keras.layers.Dense(1, activation='sigmoid')\n",
        "])"
      ]
    },
    {
      "cell_type": "code",
      "execution_count": null,
      "id": "e25e2a0b",
      "metadata": {
        "id": "e25e2a0b",
        "outputId": "099248a6-c4f5-470a-e568-44e6a8f1971b"
      },
      "outputs": [
        {
          "name": "stdout",
          "output_type": "stream",
          "text": [
            "Model: \"sequential\"\n",
            "_________________________________________________________________\n",
            " Layer (type)                Output Shape              Param #   \n",
            "=================================================================\n",
            " embedding (Embedding)       (None, 100, 16)           16000     \n",
            "                                                                 \n",
            " flatten (Flatten)           (None, 1600)              0         \n",
            "                                                                 \n",
            " dense (Dense)               (None, 6)                 9606      \n",
            "                                                                 \n",
            " dense_1 (Dense)             (None, 1)                 7         \n",
            "                                                                 \n",
            "=================================================================\n",
            "Total params: 25,613\n",
            "Trainable params: 25,613\n",
            "Non-trainable params: 0\n",
            "_________________________________________________________________\n"
          ]
        }
      ],
      "source": [
        "#display the table of model data\n",
        "model.compile(loss='binary_crossentropy',optimizer='adam',metrics=['accuracy'])\n",
        "model.summary()"
      ]
    },
    {
      "cell_type": "code",
      "execution_count": null,
      "id": "3a06f56c",
      "metadata": {
        "id": "3a06f56c",
        "outputId": "83643009-d6d0-4894-e872-caccec57bb60"
      },
      "outputs": [
        {
          "name": "stdout",
          "output_type": "stream",
          "text": [
            "Epoch 1/35\n",
            "140/140 [==============================] - 1s 4ms/step - loss: 0.3275 - accuracy: 0.8620 - val_loss: 0.1788 - val_accuracy: 0.8691\n",
            "Epoch 2/35\n",
            "140/140 [==============================] - 0s 2ms/step - loss: 0.1616 - accuracy: 0.9336 - val_loss: 0.1390 - val_accuracy: 0.9731\n",
            "Epoch 3/35\n",
            "140/140 [==============================] - 0s 2ms/step - loss: 0.1299 - accuracy: 0.9771 - val_loss: 0.1242 - val_accuracy: 0.9794\n",
            "Epoch 4/35\n",
            "140/140 [==============================] - 0s 2ms/step - loss: 0.1126 - accuracy: 0.9843 - val_loss: 0.1143 - val_accuracy: 0.9839\n",
            "Epoch 5/35\n",
            "140/140 [==============================] - 0s 2ms/step - loss: 0.0579 - accuracy: 0.9883 - val_loss: 0.0561 - val_accuracy: 0.9839\n",
            "Epoch 6/35\n",
            "140/140 [==============================] - 0s 2ms/step - loss: 0.0258 - accuracy: 0.9928 - val_loss: 0.0495 - val_accuracy: 0.9839\n",
            "Epoch 7/35\n",
            "140/140 [==============================] - 0s 2ms/step - loss: 0.0193 - accuracy: 0.9946 - val_loss: 0.0492 - val_accuracy: 0.9848\n",
            "Epoch 8/35\n",
            "140/140 [==============================] - 0s 2ms/step - loss: 0.0144 - accuracy: 0.9957 - val_loss: 0.0503 - val_accuracy: 0.9839\n",
            "Epoch 9/35\n",
            "140/140 [==============================] - 0s 2ms/step - loss: 0.0117 - accuracy: 0.9971 - val_loss: 0.0503 - val_accuracy: 0.9839\n",
            "Epoch 10/35\n",
            "140/140 [==============================] - 0s 2ms/step - loss: 0.0094 - accuracy: 0.9982 - val_loss: 0.0583 - val_accuracy: 0.9857\n",
            "Epoch 11/35\n",
            "140/140 [==============================] - 0s 2ms/step - loss: 0.0080 - accuracy: 0.9987 - val_loss: 0.0557 - val_accuracy: 0.9857\n",
            "Epoch 12/35\n",
            "140/140 [==============================] - 0s 2ms/step - loss: 0.0069 - accuracy: 0.9991 - val_loss: 0.0583 - val_accuracy: 0.9857\n",
            "Epoch 13/35\n",
            "140/140 [==============================] - 0s 2ms/step - loss: 0.0061 - accuracy: 0.9991 - val_loss: 0.0590 - val_accuracy: 0.9874\n",
            "Epoch 14/35\n",
            "140/140 [==============================] - 0s 2ms/step - loss: 0.0054 - accuracy: 0.9993 - val_loss: 0.0612 - val_accuracy: 0.9874\n",
            "Epoch 15/35\n",
            "140/140 [==============================] - 0s 2ms/step - loss: 0.0047 - accuracy: 0.9993 - val_loss: 0.0633 - val_accuracy: 0.9874\n",
            "Epoch 16/35\n",
            "140/140 [==============================] - 0s 2ms/step - loss: 0.0041 - accuracy: 0.9993 - val_loss: 0.0672 - val_accuracy: 0.9865\n",
            "Epoch 17/35\n",
            "140/140 [==============================] - 0s 2ms/step - loss: 0.0039 - accuracy: 0.9993 - val_loss: 0.0675 - val_accuracy: 0.9874\n",
            "Epoch 18/35\n",
            "140/140 [==============================] - 0s 2ms/step - loss: 0.0034 - accuracy: 0.9993 - val_loss: 0.0714 - val_accuracy: 0.9865\n",
            "Epoch 19/35\n",
            "140/140 [==============================] - 0s 2ms/step - loss: 0.0032 - accuracy: 0.9996 - val_loss: 0.0724 - val_accuracy: 0.9883\n",
            "Epoch 20/35\n",
            "140/140 [==============================] - 0s 2ms/step - loss: 0.0029 - accuracy: 0.9996 - val_loss: 0.0730 - val_accuracy: 0.9883\n",
            "Epoch 21/35\n",
            "140/140 [==============================] - 0s 2ms/step - loss: 0.0027 - accuracy: 0.9996 - val_loss: 0.0760 - val_accuracy: 0.9883\n",
            "Epoch 22/35\n",
            "140/140 [==============================] - 0s 2ms/step - loss: 0.0025 - accuracy: 0.9996 - val_loss: 0.0807 - val_accuracy: 0.9857\n",
            "Epoch 23/35\n",
            "140/140 [==============================] - 0s 2ms/step - loss: 0.0023 - accuracy: 0.9998 - val_loss: 0.0791 - val_accuracy: 0.9874\n",
            "Epoch 24/35\n",
            "140/140 [==============================] - 0s 2ms/step - loss: 0.0022 - accuracy: 0.9998 - val_loss: 0.0832 - val_accuracy: 0.9857\n",
            "Epoch 25/35\n",
            "140/140 [==============================] - 0s 2ms/step - loss: 0.0020 - accuracy: 0.9998 - val_loss: 0.0833 - val_accuracy: 0.9857\n",
            "Epoch 26/35\n",
            "140/140 [==============================] - 0s 2ms/step - loss: 0.0020 - accuracy: 0.9998 - val_loss: 0.0860 - val_accuracy: 0.9857\n",
            "Epoch 27/35\n",
            "140/140 [==============================] - 0s 2ms/step - loss: 0.0019 - accuracy: 0.9998 - val_loss: 0.0852 - val_accuracy: 0.9865\n",
            "Epoch 28/35\n",
            "140/140 [==============================] - 0s 2ms/step - loss: 0.0018 - accuracy: 0.9998 - val_loss: 0.0900 - val_accuracy: 0.9848\n",
            "Epoch 29/35\n",
            "140/140 [==============================] - 0s 2ms/step - loss: 0.0018 - accuracy: 0.9998 - val_loss: 0.0915 - val_accuracy: 0.9848\n",
            "Epoch 30/35\n",
            "140/140 [==============================] - 0s 2ms/step - loss: 0.0017 - accuracy: 0.9998 - val_loss: 0.0940 - val_accuracy: 0.9848\n",
            "Epoch 31/35\n",
            "140/140 [==============================] - 0s 2ms/step - loss: 0.0015 - accuracy: 0.9998 - val_loss: 0.0927 - val_accuracy: 0.9848\n",
            "Epoch 32/35\n",
            "140/140 [==============================] - 0s 2ms/step - loss: 0.0015 - accuracy: 0.9998 - val_loss: 0.0961 - val_accuracy: 0.9848\n",
            "Epoch 33/35\n",
            "140/140 [==============================] - 0s 2ms/step - loss: 0.0015 - accuracy: 0.9998 - val_loss: 0.0959 - val_accuracy: 0.9857\n",
            "Epoch 34/35\n",
            "140/140 [==============================] - 0s 2ms/step - loss: 0.0014 - accuracy: 0.9998 - val_loss: 0.0949 - val_accuracy: 0.9839\n",
            "Epoch 35/35\n",
            "140/140 [==============================] - 0s 2ms/step - loss: 0.0015 - accuracy: 0.9998 - val_loss: 0.1054 - val_accuracy: 0.9848\n"
          ]
        }
      ],
      "source": [
        "#utlizing the epoch function \n",
        "num_epochs = 35\n",
        "history=model.fit(padded, training_tags_final, epochs=num_epochs, validation_data=(testing_padded, testing_tags_final))"
      ]
    },
    {
      "cell_type": "code",
      "execution_count": null,
      "id": "ababd9de",
      "metadata": {
        "id": "ababd9de",
        "outputId": "48081f98-7d57-4043-f281-16bc0c376fa0"
      },
      "outputs": [
        {
          "name": "stdout",
          "output_type": "stream",
          "text": [
            "dict_keys(['loss', 'accuracy', 'val_loss', 'val_accuracy'])\n"
          ]
        }
      ],
      "source": [
        "# list all data history\n",
        "print(history.history.keys())"
      ]
    },
    {
      "cell_type": "code",
      "execution_count": null,
      "id": "cb44cb26",
      "metadata": {
        "id": "cb44cb26",
        "outputId": "4ee2cd8c-ac85-4ddf-c801-a0b7ca90b504"
      },
      "outputs": [
        {
          "data": {
            "text/plain": [
              "<matplotlib.legend.Legend at 0x24e535f5e80>"
            ]
          },
          "execution_count": 20,
          "metadata": {},
          "output_type": "execute_result"
        },
        {
          "data": {
            "image/png": "[encoded data removed]",
            "text/plain": [
              "<Figure size 432x288 with 1 Axes>"
            ]
          },
          "metadata": {
            "needs_background": "light"
          },
          "output_type": "display_data"
        }
      ],
      "source": [
        "#recalling the history \n",
        "#determining the accuracy\n",
        "plt.plot(history.history['loss'])\n",
        "plt.plot(history.history['val_loss'])\n",
        "plt.title('model loss')\n",
        "plt.ylabel('loss')\n",
        "plt.xlabel('epoch')\n",
        "plt.legend(['train', 'val'], loc='upper left')"
      ]
    },
    {
      "cell_type": "code",
      "execution_count": null,
      "id": "9d85e165",
      "metadata": {
        "id": "9d85e165"
      },
      "outputs": [],
      "source": [
        "#display the line graph\n",
        "plt.show()"
      ]
    },
    {
      "cell_type": "code",
      "execution_count": null,
      "id": "75c0c9d1",
      "metadata": {
        "id": "75c0c9d1",
        "outputId": "586706d0-0bce-4871-fb0c-269c2a6c643f"
      },
      "outputs": [
        {
          "data": {
            "text/html": [
              "<div>\n",
              "<style scoped>\n",
              "    .dataframe tbody tr th:only-of-type {\n",
              "        vertical-align: middle;\n",
              "    }\n",
              "\n",
              "    .dataframe tbody tr th {\n",
              "        vertical-align: top;\n",
              "    }\n",
              "\n",
              "    .dataframe thead th {\n",
              "        text-align: right;\n",
              "    }\n",
              "</style>\n",
              "<table border=\"1\" class=\"dataframe\">\n",
              "  <thead>\n",
              "    <tr style=\"text-align: right;\">\n",
              "      <th></th>\n",
              "      <th>labels</th>\n",
              "      <th>texts</th>\n",
              "    </tr>\n",
              "  </thead>\n",
              "  <tbody>\n",
              "    <tr>\n",
              "      <th>0</th>\n",
              "      <td>1</td>\n",
              "      <td>Feel Yourself That You Are Always Happy.. Slow...</td>\n",
              "    </tr>\n",
              "    <tr>\n",
              "      <th>1</th>\n",
              "      <td>2</td>\n",
              "      <td>staff.science.nus.edu.sg/~phyhcmk/teaching/pc1323</td>\n",
              "    </tr>\n",
              "    <tr>\n",
              "      <th>2</th>\n",
              "      <td>3</td>\n",
              "      <td>Send me yetty's number pls.</td>\n",
              "    </tr>\n",
              "    <tr>\n",
              "      <th>3</th>\n",
              "      <td>4</td>\n",
              "      <td>Hey so this sat are we going for the intro pil...</td>\n",
              "    </tr>\n",
              "    <tr>\n",
              "      <th>4</th>\n",
              "      <td>5</td>\n",
              "      <td>I got it before the new year cos yetunde said ...</td>\n",
              "    </tr>\n",
              "  </tbody>\n",
              "</table>\n",
              "</div>"
            ],
            "text/plain": [
              "   labels                                              texts\n",
              "0       1  Feel Yourself That You Are Always Happy.. Slow...\n",
              "1       2  staff.science.nus.edu.sg/~phyhcmk/teaching/pc1323\n",
              "2       3                        Send me yetty's number pls.\n",
              "3       4  Hey so this sat are we going for the intro pil...\n",
              "4       5  I got it before the new year cos yetunde said ..."
            ]
          },
          "execution_count": 22,
          "metadata": {},
          "output_type": "execute_result"
        }
      ],
      "source": [
        "#displaying the data \n",
        "dataset = pd.read_csv('output_spam.csv',encoding='latin-1')\n",
        "dataset = dataset.rename(columns={\"ï»¿\":'labels', \"text\":'texts'})\n",
        "dataset.head()"
      ]
    },
    {
      "cell_type": "code",
      "execution_count": null,
      "id": "7d5d34fd",
      "metadata": {
        "id": "7d5d34fd",
        "outputId": "ab814ad2-8147-49e1-f580-74fa99dc9fac"
      },
      "outputs": [
        {
          "name": "stdout",
          "output_type": "stream",
          "text": [
            "0     Feel Yourself That You Are Always Happy.. Slow...\n",
            "1     staff.science.nus.edu.sg/~phyhcmk/teaching/pc1323\n",
            "2                           Send me yetty's number pls.\n",
            "3     Hey so this sat are we going for the intro pil...\n",
            "4     I got it before the new year cos yetunde said ...\n",
            "5     Hey we can go jazz power yoga hip hop kb and y...\n",
            "6     Hey mate. Spoke to the mag people. Weâ°ÃÃ·re...\n",
            "7                                Morning only i can ok.\n",
            "8                                  Wat time Ã_ finish?\n",
            "9                 Shant disturb u anymore... Jia you...\n",
            "10    4mths half price Orange line rental & latest c...\n",
            "11    Your opinion about me? 1. Over 2. Jada 3. Kusr...\n",
            "12    MOON has come to color your dreams, STARS to m...\n",
            "13    You are a winner U have been specially selecte...\n",
            "14    Unless it's a situation where YOU GO GURL woul...\n",
            "15    Awww dat is sweet! We can think of something t...\n",
            "16                              Bring tat cd don forget\n",
            "17    Single line with a big meaning::::: \\Miss anyt...\n",
            "18       Jay's getting really impatient and belligerent\n",
            "19    Lol they were mad at first but then they woke ...\n",
            "Name: texts, dtype: object\n",
            "1/1 [==============================] - 0s 87ms/step\n"
          ]
        }
      ],
      "source": [
        "#displaying messages\n",
        "messages = dataset['texts'].astype(str)\n",
        "print(messages)\n",
        "\n",
        "#making of sequences\n",
        "padding_type='post'\n",
        "sample_sequences = tokenizer.texts_to_sequences(messages)\n",
        "fakes_padded = pad_sequences(sample_sequences, padding=padding_type, maxlen=max_length)           \n",
        "\n",
        "classes = model.predict(fakes_padded)"
      ]
    },
    {
      "cell_type": "code",
      "execution_count": null,
      "id": "55561e4f",
      "metadata": {
        "id": "55561e4f",
        "outputId": "805384db-102b-412b-f710-b069848a341c"
      },
      "outputs": [
        {
          "name": "stdout",
          "output_type": "stream",
          "text": [
            "Feel Yourself That You Are Always Happy.. Slowly It Becomes Your Habit &amp; Finally It Becomes Part Of Your Life.. Follow It.. Happy Morning &amp; Have A Happy Day:)\n",
            "[5.7089487e-15]\n",
            "\n",
            "\n",
            "staff.science.nus.edu.sg/~phyhcmk/teaching/pc1323\n",
            "[0.00464285]\n",
            "\n",
            "\n",
            "Send me yetty's number pls.\n",
            "[2.9580526e-05]\n",
            "\n",
            "\n",
            "Hey so this sat are we going for the intro pilates only? Or the kickboxing too? \n",
            "[1.6826153e-08]\n",
            "\n",
            "\n",
            "I got it before the new year cos yetunde said she wanted to surprise you with it but when i didnt see money i returned it mid january before the  &lt;#&gt; day return period ended.\n",
            "[2.5074144e-12]\n",
            "\n",
            "\n",
            "Hey we can go jazz power yoga hip hop kb and yogasana \n",
            "[3.9406714e-07]\n",
            "\n",
            "\n",
            "Hey mate. Spoke to the mag people. Weâ°ÃÃ·re on.  the is deliver by the end of the month. Deliver on the 24th sept. Talk later. \n",
            "[1.310847e-08]\n",
            "\n",
            "\n",
            "Morning only i can ok.\n",
            "[2.239215e-08]\n",
            "\n",
            "\n",
            "Wat time Ã_ finish?\n",
            "[4.3424057e-05]\n",
            "\n",
            "\n",
            "Shant disturb u anymore... Jia you...\n",
            "[9.764574e-05]\n",
            "\n",
            "\n",
            "4mths half price Orange line rental & latest camera phones 4 FREE. Had your phone 11mths ? Call MobilesDirect free on 08000938767 to update now! or2stoptxt\n",
            "[0.99986404]\n",
            "\n",
            "\n",
            "Your opinion about me? 1. Over 2. Jada 3. Kusruthi 4. Lovable 5. Silent 6. Spl character 7. Not matured 8. Stylish 9. Simple Pls reply..\n",
            "[7.6563965e-06]\n",
            "\n",
            "\n",
            "MOON has come to color your dreams, STARS to make them musical and my SMS to give you warm and Peaceful Sleep. Good Night\n",
            "[3.688541e-06]\n",
            "\n",
            "\n",
            "You are a winner U have been specially selected 2 receive Ã¥Â£1000 cash or a 4* holiday (flights inc) speak to a live operator 2 claim 0871277810810\n",
            "[0.9999187]\n",
            "\n",
            "\n",
            "Unless it's a situation where YOU GO GURL would be more appropriate\n",
            "[1.6912365e-05]\n",
            "\n",
            "\n",
            "Awww dat is sweet! We can think of something to do he he! Have a nice time tonight ill probably txt u later cos im lonely :( xxx.\n",
            "[7.35385e-15]\n",
            "\n",
            "\n",
            "Bring tat cd don forget\n",
            "[0.00023269]\n",
            "\n",
            "\n",
            "Single line with a big meaning::::: \\Miss anything 4 ur \\\"Best Life\\\" but\n",
            "[1.2463815e-05]\n",
            "\n",
            "\n",
            "Jay's getting really impatient and belligerent\n",
            "[0.00063797]\n",
            "\n",
            "\n",
            "Lol they were mad at first but then they woke up and gave in.\n",
            "[5.7099106e-07]\n",
            "\n",
            "\n"
          ]
        }
      ],
      "source": [
        "#classification of spam messages\n",
        "for x in range(len(messages)):\n",
        "  print(messages[x])\n",
        "  print(classes[x])\n",
        "  print('\\n')"
      ]
    }
  ],
  "metadata": {
    "kernelspec": {
      "display_name": "Python 3 (ipykernel)",
      "language": "python",
      "name": "python3"
    },
    "language_info": {
      "codemirror_mode": {
        "name": "ipython",
        "version": 3
      },
      "file_extension": ".py",
      "mimetype": "text/x-python",
      "name": "python",
      "nbconvert_exporter": "python",
      "pygments_lexer": "ipython3",
      "version": "3.9.12"
    },
    "colab": {
      "provenance": [],
      "collapsed_sections": []
    }
  },
  "nbformat": 4,
  "nbformat_minor": 5
}